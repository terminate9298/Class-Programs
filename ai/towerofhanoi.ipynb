{
 "cells": [
  {
   "cell_type": "code",
   "execution_count": 14,
   "metadata": {},
   "outputs": [],
   "source": [
    "def toh(n , f, t, a): \n",
    "    if n == 1: \n",
    "        print (\"Moving disk 1 from rod\",f,\"to rod\",t) \n",
    "        return\n",
    "    toh(n-1, f, a, t) \n",
    "    print (\"Moving disk\",n,\"from rod\",f,\"to rod\",t )\n",
    "    toh(n-1, a, t, f) "
   ]
  },
  {
   "cell_type": "code",
   "execution_count": 16,
   "metadata": {},
   "outputs": [
    {
     "name": "stdout",
     "output_type": "stream",
     "text": [
      "Number of steps are  7\n",
      "Moving disk 1 from rod A to rod C\n",
      "Moving disk 2 from rod A to rod B\n",
      "Moving disk 1 from rod C to rod B\n",
      "Moving disk 3 from rod A to rod C\n",
      "Moving disk 1 from rod B to rod A\n",
      "Moving disk 2 from rod B to rod C\n",
      "Moving disk 1 from rod A to rod C\n"
     ]
    }
   ],
   "source": [
    "n = int(input('Enter Number of Disks for 3 Pegs  '))\n",
    "print(\"Number of steps are \",2**n-1)\n",
    "toh(n, 'A', 'C', 'B') "
   ]
  },
  {
   "cell_type": "code",
   "execution_count": null,
   "metadata": {},
   "outputs": [],
   "source": []
  },
  {
   "cell_type": "code",
   "execution_count": null,
   "metadata": {},
   "outputs": [],
   "source": []
  }
 ],
 "metadata": {
  "kernelspec": {
   "display_name": "Python 3",
   "language": "python",
   "name": "python3"
  },
  "language_info": {
   "codemirror_mode": {
    "name": "ipython",
    "version": 3
   },
   "file_extension": ".py",
   "mimetype": "text/x-python",
   "name": "python",
   "nbconvert_exporter": "python",
   "pygments_lexer": "ipython3",
   "version": "3.7.2"
  }
 },
 "nbformat": 4,
 "nbformat_minor": 2
}
